{
 "cells": [
  {
   "cell_type": "markdown",
   "metadata": {
    "deletable": false,
    "editable": true,
    "nbgrader": {
     "cell_type": "markdown",
     "checksum": "1a1260efb3972aa2ac2cbdd9eb1a63c9",
     "grade": false,
     "grade_id": "title",
     "locked": true,
     "schema_version": 3,
     "solution": false,
     "task": false
    },
    "slideshow": {
     "slide_type": ""
    },
    "tags": []
   },
   "source": [
    "# Homework 1: Data Types, Functions and Conditionals (29 points)"
   ]
  },
  {
   "cell_type": "markdown",
   "metadata": {
    "editable": true,
    "slideshow": {
     "slide_type": ""
    },
    "tags": []
   },
   "source": [
    "name: Tzu-Yu Peng\n",
    "\n",
    "email: typeng@umich.edu\n",
    "\n",
    "\n",
    "This homework assignment took me XX hours in total to complete. (Please help us to gauge the difficulty of the assignment.)\n",
    "\n",
    "What is your primary reason for taking this class? (List just THE most important reason)."
   ]
  },
  {
   "cell_type": "markdown",
   "metadata": {
    "deletable": false,
    "editable": false,
    "nbgrader": {
     "cell_type": "markdown",
     "checksum": "26bc23022a9b6661beb31f28d255c61a",
     "grade": false,
     "grade_id": "cell-9fc8abaaecff0e9a",
     "locked": true,
     "schema_version": 3,
     "solution": false,
     "task": false
    },
    "slideshow": {
     "slide_type": ""
    },
    "tags": []
   },
   "source": [
    "## Collaboration Disclosure\n",
    "\n",
    "In the cell below, please list *everyone* with whom you discussed any of the homework problems, excluding only the GSIs and the course instructor. \n",
    "\n",
    "If you did not discuss the homework with anyone else, write __\"I did not discuss this homework with anyone.\"__\n",
    "\n",
    "Even if you discuss questions with other, the code you submit must be only yours. All work is checked with the [MOSS plagiarism detector](https://theory.stanford.edu/~aiken/moss/).)"
   ]
  },
  {
   "cell_type": "markdown",
   "metadata": {
    "editable": true,
    "slideshow": {
     "slide_type": ""
    },
    "tags": []
   },
   "source": [
    "I discussed XX with XX."
   ]
  },
  {
   "cell_type": "markdown",
   "metadata": {
    "deletable": false,
    "editable": false,
    "nbgrader": {
     "cell_type": "markdown",
     "checksum": "441449f5180865cef3222f0bcb6dbb91",
     "grade": false,
     "grade_id": "cell-6b27842ca95b0ef2",
     "locked": true,
     "schema_version": 3,
     "solution": false,
     "task": false
    },
    "slideshow": {
     "slide_type": ""
    },
    "tags": []
   },
   "source": [
    "## Submission Instructions\n",
    "Your homework solutions should be written entirely in this Jupyter notebook file. Once it contains your solutions, you should submit this notebook through Canvas. \n",
    "\n",
    "\n",
    "Before submitting, please make sure to __Cells->Run All__ executes without errors; errors in your code translate directly to point deductions. \n",
    "In general, you don't need to do explicitly raise errors (e.g. with the ```raise``` function) if we don't ask you to in the problem statement.\n",
    "However, even in cases where we ask you to check for errors, your submission should not contain any examples of your functions actually raising those errors.\n",
    "\n",
    "Note that many parts of this homework where you are expected to type in code will have ```NotImplementedError()``` as a placeholder. You need to delete this function and replace it with your own code.\n",
    "\n",
    "## Importing libaries\n",
    "\n",
    "Unless specifically prohibited, you can import any Python library that comes included with Python (e.g. ```math```, ```datetime```) or that has been used in the lecture or homework prompts. You do not need any other libraries to complete the homework. Note that the graders will not install any additional libraries to grade an assignment.\n",
    "\n",
    "\n",
    "<!-- ## Coding style\n",
    "Please follow the [PEP8 guidelines](https://www.python.org/dev/peps/pep-0008/). The `pycodestyle_magic` package will remind you if you are not. To install it, run\n",
    "```\n",
    "pip install flake8 pycodestyle_magic\n",
    "```\n",
    "Once it is installed the following two Jupyter directives will enable syntax checking: -->\n",
    "\n",
    "## Homework tips \n",
    "\n",
    "1. **Start early!** If you run into trouble installing things or importing packages, it’s\n",
    "best to find those problems well in advance, not the night before your assignment is\n",
    "due when we cannot help you!\n",
    "\n",
    "2. **Make sure you back up your work!** At a minimum, do your work in a Dropbox\n",
    "folder. Better yet, use git, which is well worth your time and effort to learn.\n",
    "\n",
    "3. **Be careful to follow directions!** Remember that Python is case sensitive. If\n",
    "you are ask you to define a function called my_function and you define a function\n",
    "called My_Function, you will not receive full credit. You may want to copy-paste\n",
    "the function names below to make sure that the functions in your notebook match.\n",
    "\n",
    "\n",
    "## Nbgrader\n",
    "\n",
    "We will be using `nbgrader` to grade your jupyter notebook. You will notice some `read-only` cells in the assignment that contain `assert` statements. These are tests that your code must pass for your solution to be correct. If any of the tests fail, you will get an python error and not get points for that question. \n",
    "\n",
    "**Note:** The tests shown not are not comprehensive; additional tests will be used at grading time. You are encouraged to read the problem carefully and verify your code covers all possible cases.\n",
    "\n",
    "**Be careful:** If a jupyter notebook cell takes longer than `60s` to run, the autograder will not grade it and you will receive zero credit for that question."
   ]
  },
  {
   "cell_type": "markdown",
   "metadata": {
    "deletable": false,
    "editable": false,
    "nbgrader": {
     "cell_type": "markdown",
     "checksum": "d058262f866252d8ad2483c58110f82f",
     "grade": false,
     "grade_id": "prob1",
     "locked": true,
     "schema_version": 3,
     "solution": false,
     "task": false
    }
   },
   "source": [
    "## Problem 1: Severance textbook exercises (8 points) \n",
    "Complete the following exercises from the textbook which you can find [here](https://www.py4e.com/html3/) for free. \n",
    "\n",
    "Note that some questions will ask you to get input from the user via the ```input```\n",
    "function. Since Jupyter has no command-line interface, you will instead implement the program as a function. The answer cells you find below will provide a template to help you get started.\n",
    "\n",
    "- Ch 1, Exercises 3,5,6,8  \n",
    "- Ch 2, Exercises 3,4  \n",
    "- Ch 3, Exercises 1, 2  \n",
    "- Ch 4, Exercise 6  \n",
    "- Ch 6, Exercise 1  "
   ]
  },
  {
   "cell_type": "markdown",
   "metadata": {
    "deletable": false,
    "editable": false,
    "nbgrader": {
     "cell_type": "markdown",
     "checksum": "0975af250b99a4c44b629e6df15653e1",
     "grade": false,
     "grade_id": "cell-98656bea1fa5beea",
     "locked": true,
     "schema_version": 3,
     "solution": false,
     "task": false
    }
   },
   "source": [
    "---\n",
    "### Chapter 1, Exercises (2 points) "
   ]
  },
  {
   "cell_type": "markdown",
   "metadata": {
    "deletable": false,
    "editable": false,
    "nbgrader": {
     "cell_type": "markdown",
     "checksum": "9b8b7b08f7c8ef1dd71ca42060150016",
     "grade": false,
     "grade_id": "ex-1_1",
     "locked": true,
     "schema_version": 3,
     "solution": false,
     "task": false
    }
   },
   "source": [
    "#### Exercise 3 \n",
    "What is the difference between a compiler and an interpreter?"
   ]
  },
  {
   "cell_type": "code",
   "execution_count": 23,
   "metadata": {
    "deletable": false,
    "nbgrader": {
     "cell_type": "code",
     "checksum": "8919c90c1b08385ccec107632a1f2a88",
     "grade": false,
     "grade_id": "ch1-ex3-ans",
     "locked": false,
     "schema_version": 3,
     "solution": true,
     "task": false
    }
   },
   "outputs": [],
   "source": [
    "# Enter your answer as a python string in a variable called 'ans'. \n",
    "# For example: \"ans = 'This is a sample answer.'\"\n",
    "# You can use markdown formatting. \n",
    "# YOUR CODE HERE\n",
    "ans = \"Compiler will translate the source code into machine code, which is the binary code that the computer can understand.\\\n",
    "       \\nThe machine code will be stored in a file with an extension of .exe. \\\n",
    "       \\nWhen the user runs the .exe file, the computer will execute the machine code and perform the actions specified in the source code.\\\n",
    "       \\nOn the other hand, interpreter will translate the source code into machine code line by line and execute it immediately.\""
   ]
  },
  {
   "cell_type": "code",
   "execution_count": 24,
   "metadata": {
    "deletable": false,
    "editable": false,
    "nbgrader": {
     "cell_type": "code",
     "checksum": "9de5de0bc7d36140b89b3a3141e167ef",
     "grade": true,
     "grade_id": "ch1-ex3-test",
     "locked": true,
     "points": 0.5,
     "schema_version": 3,
     "solution": false,
     "task": false
    }
   },
   "outputs": [
    {
     "data": {
      "text/markdown": [
       "Compiler will translate the source code into machine code, which is the binary code that the computer can understand.       \n",
       "The machine code will be stored in a file with an extension of .exe.        \n",
       "When the user runs the .exe file, the computer will execute the machine code and perform the actions specified in the source code.       \n",
       "On the other hand, interpreter will translate the source code into machine code line by line and execute it immediately."
      ],
      "text/plain": [
       "<IPython.core.display.Markdown object>"
      ]
     },
     "execution_count": 24,
     "metadata": {},
     "output_type": "execute_result"
    }
   ],
   "source": [
    "# Make sure you answer is rendered as markdown below. \n",
    "from IPython.display import Markdown as md\n",
    "assert type(ans) == str\n",
    "md(ans)"
   ]
  },
  {
   "cell_type": "markdown",
   "metadata": {
    "deletable": false,
    "editable": false,
    "nbgrader": {
     "cell_type": "markdown",
     "checksum": "1aaa69d58a977531c74091607a36a5c8",
     "grade": false,
     "grade_id": "ex-1_2",
     "locked": true,
     "schema_version": 3,
     "solution": false,
     "task": false
    }
   },
   "source": [
    "#### Exercise 5\n",
    "What is wrong with the following code:\n",
    "```\n",
    ">>> primt 'Hello world!'\n",
    "File \"<stdin>\", line 1\n",
    "  primt 'Hello world!'\n",
    "                     ^\n",
    "SyntaxError: invalid syntax\n",
    ">>>\n",
    "```"
   ]
  },
  {
   "cell_type": "code",
   "execution_count": 21,
   "metadata": {
    "deletable": false,
    "nbgrader": {
     "cell_type": "code",
     "checksum": "24be8587955f19b618fd12ca45dbfe65",
     "grade": false,
     "grade_id": "ch1-ex5-ans",
     "locked": false,
     "schema_version": 3,
     "solution": true,
     "task": false
    }
   },
   "outputs": [],
   "source": [
    "# Enter your answer as a python string in a variable called 'ans'. \n",
    "# You can use markdown formatting. \n",
    "# YOUR CODE HERE\n",
    "ans = \"The print function is mistakenly spelled as 'primt' in the code.\\\n",
    "       \\nAnd the print function should have () right after the function name.\""
   ]
  },
  {
   "cell_type": "code",
   "execution_count": 22,
   "metadata": {
    "deletable": false,
    "editable": false,
    "nbgrader": {
     "cell_type": "code",
     "checksum": "8d23a2887800c8660c42034d0c502c87",
     "grade": true,
     "grade_id": "ch1-ex5-test",
     "locked": true,
     "points": 0.5,
     "schema_version": 3,
     "solution": false,
     "task": false
    }
   },
   "outputs": [
    {
     "data": {
      "text/markdown": [
       "The print function is mistakenly spelled as 'primt' in the code.       \n",
       "And the print function should have () right after the function name."
      ],
      "text/plain": [
       "<IPython.core.display.Markdown object>"
      ]
     },
     "execution_count": 22,
     "metadata": {},
     "output_type": "execute_result"
    }
   ],
   "source": [
    "# Make sure you answer is rendered as markdown below. \n",
    "from IPython.display import Markdown as md\n",
    "assert type(ans) == str\n",
    "md(ans)"
   ]
  },
  {
   "cell_type": "markdown",
   "metadata": {
    "deletable": false,
    "editable": false,
    "nbgrader": {
     "cell_type": "markdown",
     "checksum": "71810921f78c05980c0e3d90486ce77e",
     "grade": false,
     "grade_id": "ex-1_3",
     "locked": true,
     "schema_version": 3,
     "solution": false,
     "task": false
    }
   },
   "source": [
    "#### Exercise 6\n",
    "Where in the computer is a variable such as `x` stored after the following Python line finishes?\n",
    "\n",
    "a) Central processing unit\n",
    "\n",
    "b) Main Memory\n",
    "\n",
    "c) Secondary Memory\n",
    "\n",
    "d) Input Devices\n",
    "\n",
    "e) Output Devices"
   ]
  },
  {
   "cell_type": "code",
   "execution_count": 25,
   "metadata": {
    "deletable": false,
    "nbgrader": {
     "cell_type": "code",
     "checksum": "29135a9e27dfafd8b5a019c5a9a684e9",
     "grade": false,
     "grade_id": "cell-b0f556c01b7e2276",
     "locked": false,
     "schema_version": 3,
     "solution": true,
     "task": false
    }
   },
   "outputs": [],
   "source": [
    "# Enter your answer as a python string in a variable 'ans'. \n",
    "# Should be one of ['a', 'b', 'c', 'd', 'e']\n",
    "# YOUR CODE HERE\n",
    "ans  = 'b'"
   ]
  },
  {
   "cell_type": "code",
   "execution_count": 26,
   "metadata": {
    "deletable": false,
    "editable": false,
    "nbgrader": {
     "cell_type": "code",
     "checksum": "7cdbeae91f969386d3f1628a54b26913",
     "grade": true,
     "grade_id": "cell-3176d2d916422842",
     "locked": true,
     "points": 0.5,
     "schema_version": 3,
     "solution": false,
     "task": false
    }
   },
   "outputs": [],
   "source": [
    "assert type(ans) == str\n",
    "assert ans in ['a','b','c','d','e']"
   ]
  },
  {
   "cell_type": "markdown",
   "metadata": {
    "deletable": false,
    "editable": false,
    "nbgrader": {
     "cell_type": "markdown",
     "checksum": "eeffcaed49ad4a127bd7eb31c69a0130",
     "grade": false,
     "grade_id": "ex-1_4",
     "locked": true,
     "schema_version": 3,
     "solution": false,
     "task": false
    }
   },
   "source": [
    "#### Exercise 8\n",
    "Explain each of the following using an example of a human capability: (1) Central processing unit, (2) Main Memory, (3) Secondary Memory, (4) Input Device, and (5) Output Device. For example, “What is the human equivalent to a Central Processing Unit”?"
   ]
  },
  {
   "cell_type": "code",
   "execution_count": 44,
   "metadata": {
    "deletable": false,
    "nbgrader": {
     "cell_type": "code",
     "checksum": "e5c3aaa54631415909734343a3cceddb",
     "grade": false,
     "grade_id": "ch1-ex8-ans",
     "locked": false,
     "schema_version": 3,
     "solution": true,
     "task": false
    }
   },
   "outputs": [],
   "source": [
    "# Enter your answer as a python string in a variable called 'ans'. \n",
    "# You can use markdown formatting. \n",
    "# YOUR CODE HERE\n",
    "ans = \"```\\n(1) Central Processing Unit (CPU) is the brain of the computer.\\\n",
    "          \\n    It performs the basic arithmetic, control, and I/O operations specified by the instructions, just like people will think and act.\\\n",
    "          \\n(2) Main Memory is the temporary storage that holds the data and instructions that the CPU needs, it will be deleted after the program or device is shut down.\\\n",
    "          \\n    Main Memory is like short-term memory, this will help people deal with problem, and do not always need to remind things from long-term memory.\\\n",
    "          \\n(3) Secondary Memory is the permanent storage that holds data and instructions that are not currently being used.\\\n",
    "          \\n    Secondary Memory is like long-term memory, it will store the data and instructions that are not currently being used, and can be used when needed.\\\n",
    "          \\n(4) Input Device is a device that can get input from outside world.\\\n",
    "          \\n    We can relate input device to eyes and ears, it can get the information from the outside world.\\\n",
    "          \\n(5) Output Device is the device that allow the computer to communicate with the outside world.\\\n",
    "          \\n    We can relate output device to mouth, it can output the information to the outside world.\"\n"
   ]
  },
  {
   "cell_type": "code",
   "execution_count": 45,
   "metadata": {
    "deletable": false,
    "editable": false,
    "nbgrader": {
     "cell_type": "code",
     "checksum": "656eda4aff9b60914beeb3b483207692",
     "grade": true,
     "grade_id": "ch1-ex8-test",
     "locked": true,
     "points": 0.5,
     "schema_version": 3,
     "solution": false,
     "task": false
    }
   },
   "outputs": [
    {
     "data": {
      "text/markdown": [
       "```\n",
       "(1) Central Processing Unit (CPU) is the brain of the computer.          \n",
       "    It performs the basic arithmetic, control, and I/O operations specified by the instructions, just like people will think and act.          \n",
       "(2) Main Memory is the temporary storage that holds the data and instructions that the CPU needs, it will be deleted after the program or device is shut down.          \n",
       "    Main Memory is like short-term memory, this will help people deal with problem, and do not always need to remind things from long-term memory.          \n",
       "(3) Secondary Memory is the permanent storage that holds data and instructions that are not currently being used.          \n",
       "    Secondary Memory is like long-term memory, it will store the data and instructions that are not currently being used, and can be used when needed.          \n",
       "(4) Input Device is a device that can get input from outside world.          \n",
       "    We can relate input device to eyes and ears, it can get the information from the outside world.          \n",
       "(5) Output Device is the device that allow the computer to communicate with the outside world.          \n",
       "    We can relate output device to mouth, it can output the information to the outside world."
      ],
      "text/plain": [
       "<IPython.core.display.Markdown object>"
      ]
     },
     "execution_count": 45,
     "metadata": {},
     "output_type": "execute_result"
    }
   ],
   "source": [
    "# Make sure you answer is rendered as markdown below. \n",
    "from IPython.display import Markdown as md\n",
    "assert type(ans) == str\n",
    "md(ans)"
   ]
  },
  {
   "cell_type": "markdown",
   "metadata": {
    "deletable": false,
    "editable": false,
    "nbgrader": {
     "cell_type": "markdown",
     "checksum": "122852e8ba9ebf3ac7c5a62a40853012",
     "grade": false,
     "grade_id": "cell-6dac1d3c8d619364",
     "locked": true,
     "schema_version": 3,
     "solution": false,
     "task": false
    }
   },
   "source": [
    "### Chapter 2, Exercises (2 points) "
   ]
  },
  {
   "cell_type": "markdown",
   "metadata": {
    "deletable": false,
    "editable": false,
    "nbgrader": {
     "cell_type": "markdown",
     "checksum": "b9448358140a7720409ae9ad9bfab8b4",
     "grade": false,
     "grade_id": "cell-a1d3e44b4b11f8e2",
     "locked": true,
     "schema_version": 3,
     "solution": false,
     "task": false
    }
   },
   "source": [
    "#### Exercise 3\n",
    " Write a function which computes gross pay given the **hours** worked and the **rate_per_hour**. \n",
    " \n",
    " (Note: You do not need to use the input() function as in the textbook question.)"
   ]
  },
  {
   "cell_type": "code",
   "execution_count": 46,
   "metadata": {
    "deletable": false,
    "nbgrader": {
     "cell_type": "code",
     "checksum": "41a5940727b00316885a39421dad75d7",
     "grade": false,
     "grade_id": "cell-312caeaaf6abe1a9",
     "locked": false,
     "schema_version": 3,
     "solution": true,
     "task": false
    }
   },
   "outputs": [],
   "source": [
    "def get_gross_pay(hours, rate_per_hour):\n",
    "    # YOUR CODE HERE\n",
    "    return hours * rate_per_hour"
   ]
  },
  {
   "cell_type": "code",
   "execution_count": 47,
   "metadata": {
    "deletable": false,
    "editable": false,
    "nbgrader": {
     "cell_type": "code",
     "checksum": "07acd5f6653183d99279399cd854bb56",
     "grade": true,
     "grade_id": "cell-458cb3b5b6333645",
     "locked": true,
     "points": 1,
     "schema_version": 3,
     "solution": false,
     "task": false
    }
   },
   "outputs": [],
   "source": [
    "assert get_gross_pay(3, 10) == 30"
   ]
  },
  {
   "cell_type": "markdown",
   "metadata": {
    "deletable": false,
    "editable": false,
    "nbgrader": {
     "cell_type": "markdown",
     "checksum": "d4253ddabf5dcb30e24bd766dc13d092",
     "grade": false,
     "grade_id": "cell-7c64928c74662663",
     "locked": true,
     "schema_version": 3,
     "solution": false,
     "task": false
    }
   },
   "source": [
    "#### Exercise 4\n",
    "Assume that we execute the following assignment statements:\n",
    "```\n",
    "width = 17\n",
    "height = 12.0\n",
    "```\n",
    "For each of the following expressions, write the value of the expression and the type (of the value of the expression).\n",
    "\n",
    "1. `width//2`\n",
    "\n",
    "2. `width/2.0`\n",
    "\n",
    "3. `height/3`\n",
    "\n",
    "4. `1 + 2 * 5`"
   ]
  },
  {
   "cell_type": "code",
   "execution_count": 1,
   "metadata": {
    "deletable": false,
    "nbgrader": {
     "cell_type": "code",
     "checksum": "3307f2434b4ea445516fcc2d72f2ab11",
     "grade": false,
     "grade_id": "cell-e69aa106b6a89086",
     "locked": false,
     "schema_version": 3,
     "solution": true,
     "task": false
    }
   },
   "outputs": [],
   "source": [
    "# Enter you answer as python list of tuples (value, type) in a variable 'ans'.\n",
    "# For example, \"ans = [(1,int), (2.0, float)]\" (not actual answer)\n",
    "# where the order of the list corresponds to order above.\n",
    "\n",
    "# YOUR CODE HERE\n",
    "ans = [(8, int), (8.5, float), (4,float), (11, int)]"
   ]
  },
  {
   "cell_type": "code",
   "execution_count": 52,
   "metadata": {
    "deletable": false,
    "editable": false,
    "nbgrader": {
     "cell_type": "code",
     "checksum": "fd32dbf0811bdf7a8937b6b1c16c0f9f",
     "grade": true,
     "grade_id": "cell-796c8c2828e551ce",
     "locked": true,
     "points": 1,
     "schema_version": 3,
     "solution": false,
     "task": false
    }
   },
   "outputs": [],
   "source": [
    "assert ans[0] == (8,int)"
   ]
  },
  {
   "cell_type": "markdown",
   "metadata": {
    "deletable": false,
    "editable": false,
    "nbgrader": {
     "cell_type": "markdown",
     "checksum": "156b06627468e261d3b29f9744ab84a8",
     "grade": false,
     "grade_id": "cell-f8ae53587f9774ac",
     "locked": true,
     "schema_version": 3,
     "solution": false,
     "task": false
    }
   },
   "source": [
    "---\n",
    "### Chapter 3, Exercises (2 points) "
   ]
  },
  {
   "cell_type": "markdown",
   "metadata": {
    "deletable": false,
    "editable": false,
    "nbgrader": {
     "cell_type": "markdown",
     "checksum": "a33a4d658c3e6adb63c5f58fc1c65e2e",
     "grade": false,
     "grade_id": "cell-997d6b17e4fe7850",
     "locked": true,
     "schema_version": 3,
     "solution": false,
     "task": false
    }
   },
   "source": [
    "#### Exercise 1 \n",
    "Rewrite your `get_gross_pay` function from ch2, exercise 3 to give the employee 1.5 times the hourly rate for hours worked above 40 hours."
   ]
  },
  {
   "cell_type": "code",
   "execution_count": 53,
   "metadata": {
    "deletable": false,
    "nbgrader": {
     "cell_type": "code",
     "checksum": "07b8a04032975dd2d4cd4612c15b1f19",
     "grade": false,
     "grade_id": "cell-8f610a982f866fac",
     "locked": false,
     "schema_version": 3,
     "solution": true,
     "task": false
    }
   },
   "outputs": [],
   "source": [
    "def get_gross_pay(hours, rate_per_hour):\n",
    "    # YOUR CODE HERE\n",
    "    if hours <= 40:\n",
    "        return hours * rate_per_hour\n",
    "    elif hours > 40:\n",
    "        return 40 * rate_per_hour + (hours - 40) * rate_per_hour * 1.5"
   ]
  },
  {
   "cell_type": "code",
   "execution_count": 54,
   "metadata": {
    "deletable": false,
    "editable": false,
    "nbgrader": {
     "cell_type": "code",
     "checksum": "657af1a8e9a04c49b90f7d4b03a83ad0",
     "grade": true,
     "grade_id": "cell-537d9d1c5dcd290f",
     "locked": true,
     "points": 1,
     "schema_version": 3,
     "solution": false,
     "task": false
    }
   },
   "outputs": [],
   "source": [
    "assert get_gross_pay(0, 1000)==0\n",
    "assert get_gross_pay(2, 10)==20"
   ]
  },
  {
   "cell_type": "markdown",
   "metadata": {
    "deletable": false,
    "editable": false,
    "nbgrader": {
     "cell_type": "markdown",
     "checksum": "ed8f90916f5a978a06829800ea0b9a9c",
     "grade": false,
     "grade_id": "cell-4bd5a0ba51b73a0f",
     "locked": true,
     "schema_version": 3,
     "solution": false,
     "task": false
    }
   },
   "source": [
    "#### Exercise 2\n",
    "Rewrite your `get_gross_pay` program from ch2, exercise 3 using `try` and `except` so that your program handles non-numeric input gracefully by printing an informative message and returning nothing.\n",
    "\n",
    "```\n",
    ">>> get_gross_pay(20, 'nine')\n",
    "Error, please enter numeric input\n",
    "\n",
    ">>> get_gross_pay('forty', 'nine')\n",
    "Error, please enter numeric input\n",
    "```"
   ]
  },
  {
   "cell_type": "code",
   "execution_count": 61,
   "metadata": {
    "deletable": false,
    "nbgrader": {
     "cell_type": "code",
     "checksum": "5f4f4c0ed03d6b6247d2fece85841802",
     "grade": false,
     "grade_id": "cell-b57ce5b94cb6cf92",
     "locked": false,
     "schema_version": 3,
     "solution": true,
     "task": false
    }
   },
   "outputs": [],
   "source": [
    "def get_gross_pay(hours, rate_per_hour):\n",
    "    # YOUR CODE HERE\n",
    "    try:\n",
    "        return hours * rate_per_hour\n",
    "    except:\n",
    "        print(\"Error: Please enter a positive integer or a positive float.\")\n",
    "        return None"
   ]
  },
  {
   "cell_type": "code",
   "execution_count": 62,
   "metadata": {
    "deletable": false,
    "editable": false,
    "nbgrader": {
     "cell_type": "code",
     "checksum": "3d7c289ecbbe5fed167d05b00b913ce7",
     "grade": true,
     "grade_id": "cell-582c5cae10097fd1",
     "locked": true,
     "points": 1,
     "schema_version": 3,
     "solution": false,
     "task": false
    }
   },
   "outputs": [
    {
     "name": "stdout",
     "output_type": "stream",
     "text": [
      "Error: Please enter a positive integer or a positive float.\n"
     ]
    }
   ],
   "source": [
    "try: \n",
    "    get_gross_pay('nine', 'five')\n",
    "    get_gross_pay('nine', 5)\n",
    "    get_gross_pay(5, 5)\n",
    "    get_gross_pay(5, 'nine')\n",
    "    assert True\n",
    "except: \n",
    "    assert False"
   ]
  },
  {
   "cell_type": "markdown",
   "metadata": {
    "deletable": false,
    "editable": false,
    "nbgrader": {
     "cell_type": "markdown",
     "checksum": "a7bb1051885fada8dceb64bad7b9ffe0",
     "grade": false,
     "grade_id": "cell-bf7cd144cb19f903",
     "locked": true,
     "schema_version": 3,
     "solution": false,
     "task": false
    }
   },
   "source": [
    "### Chapter 4, Exercises (1 point)"
   ]
  },
  {
   "cell_type": "markdown",
   "metadata": {
    "deletable": false,
    "editable": false,
    "nbgrader": {
     "cell_type": "markdown",
     "checksum": "e3690ba0fb344f3b3906be7fada4a92e",
     "grade": false,
     "grade_id": "cell-bc6e930ec2f1e44a",
     "locked": true,
     "schema_version": 3,
     "solution": false,
     "task": false
    }
   },
   "source": [
    "#### Exercise 1 \n",
    "What is the purpose of the `def` keyword in Python?\n",
    "\n",
    "a) It is slang that means “the following code is really cool”\n",
    "\n",
    "b) It indicates the start of a function\n",
    "\n",
    "c) It indicates that the following indented section of code is to be stored for later\n",
    "\n",
    "d) b and c are both true\n",
    "\n",
    "e) None of the above"
   ]
  },
  {
   "cell_type": "code",
   "execution_count": 63,
   "metadata": {
    "deletable": false,
    "nbgrader": {
     "cell_type": "code",
     "checksum": "8039a9daa644bfd9c8cde2d442719019",
     "grade": false,
     "grade_id": "ch4-ex1-ans",
     "locked": false,
     "schema_version": 3,
     "solution": true,
     "task": false
    }
   },
   "outputs": [],
   "source": [
    "# Enter your answer as a python string in a variable 'ans'. \n",
    "# Should be one of ['a', 'b', 'c', 'd', 'e']\n",
    "# YOUR CODE HERE\n",
    "ans = 'd'"
   ]
  },
  {
   "cell_type": "code",
   "execution_count": 64,
   "metadata": {
    "deletable": false,
    "editable": false,
    "nbgrader": {
     "cell_type": "code",
     "checksum": "1bb1c033b227f2c24a79124d52f3fdbf",
     "grade": true,
     "grade_id": "ch4-ex1-test",
     "locked": true,
     "points": 1,
     "schema_version": 3,
     "solution": false,
     "task": false
    }
   },
   "outputs": [],
   "source": [
    "assert type(ans) == str\n",
    "assert ans in ['a','b','c','d','e']"
   ]
  },
  {
   "cell_type": "markdown",
   "metadata": {
    "deletable": false,
    "editable": false,
    "nbgrader": {
     "cell_type": "markdown",
     "checksum": "220b7f25eeba4c136408687598ede9c3",
     "grade": false,
     "grade_id": "cell-e115f86d73d8ce91",
     "locked": true,
     "schema_version": 3,
     "solution": false,
     "task": false
    }
   },
   "source": [
    "### Chapter 6, Exercises (1 point) "
   ]
  },
  {
   "cell_type": "markdown",
   "metadata": {
    "deletable": false,
    "editable": false,
    "nbgrader": {
     "cell_type": "markdown",
     "checksum": "7a9d134bf8cf73293961b0d7b43aa6b9",
     "grade": false,
     "grade_id": "ex-6_1",
     "locked": true,
     "schema_version": 3,
     "solution": false,
     "task": false
    }
   },
   "source": [
    "#### Exercise 6\n",
    "Read the documentation of the string methods at https://docs.python.org/library/stdtypes.html#string-methods You might want to experiment with some of them to make sure you understand how they work. `strip` and `replace` are particularly useful."
   ]
  },
  {
   "cell_type": "code",
   "execution_count": 65,
   "metadata": {
    "deletable": false,
    "nbgrader": {
     "cell_type": "code",
     "checksum": "2f8d7f834f3c1134580e1f725478fe86",
     "grade": false,
     "grade_id": "cell-9a484821ec48c9fc",
     "locked": false,
     "schema_version": 3,
     "solution": true,
     "task": false
    }
   },
   "outputs": [],
   "source": [
    "# Create a variable 'ans' with the string: 'I read the documentation.'\n",
    "# YOUR CODE HERE\n",
    "ans = 'I read the documentation.'"
   ]
  },
  {
   "cell_type": "code",
   "execution_count": 66,
   "metadata": {
    "deletable": false,
    "editable": false,
    "nbgrader": {
     "cell_type": "code",
     "checksum": "cdfb234fe6bb11e39da44f837352f0ee",
     "grade": true,
     "grade_id": "cell-4dd3c9dad6369e20",
     "locked": true,
     "points": 1,
     "schema_version": 3,
     "solution": false,
     "task": false
    }
   },
   "outputs": [],
   "source": [
    "assert ans == 'I read the documentation.'"
   ]
  },
  {
   "cell_type": "markdown",
   "metadata": {
    "deletable": false,
    "editable": false,
    "nbgrader": {
     "cell_type": "markdown",
     "checksum": "5a7dd97251ef720c17a8e47ccf476659",
     "grade": false,
     "grade_id": "prob2",
     "locked": true,
     "schema_version": 3,
     "solution": false,
     "task": false
    }
   },
   "source": [
    "## Problem 2: Euclid's Algorithm (3 points)"
   ]
  },
  {
   "cell_type": "markdown",
   "metadata": {
    "deletable": false,
    "editable": false,
    "nbgrader": {
     "cell_type": "markdown",
     "checksum": "bd3b32246867eba19ad478a535de0b75",
     "grade": false,
     "grade_id": "prob2-desc",
     "locked": true,
     "schema_version": 3,
     "solution": false,
     "task": false
    }
   },
   "source": [
    "Euclid’s algorithm (https://en.wikipedia.org/wiki/Euclidean_algorithm) is a method\n",
    "for finding the greatest common divisor (GCD) of two integers. Recall that the GCD of\n",
    "two integers $m$ and $n$ is the largest number that divides both $m$ and $n$."
   ]
  },
  {
   "cell_type": "markdown",
   "metadata": {
    "deletable": false,
    "editable": false,
    "nbgrader": {
     "cell_type": "markdown",
     "checksum": "359c77e34fdd26b6d4e238cbaed2b2ea",
     "grade": false,
     "grade_id": "prob3-part1",
     "locked": true,
     "schema_version": 3,
     "solution": false,
     "task": false
    }
   },
   "source": [
    "---\n",
    "### Part 1 (2 points)\n",
    "\n",
    "The __Wikipedia__ page above includes several pseudocode implementations of Euclid’s\n",
    "algorithm. Choose one of these, and use it to implement a function `gcd`, which takes\n",
    "two integers as its arguments and returns their GCD. You may assume that both\n",
    "inputs are postive integers (i.e. $m,n \\in \\mathbb Z$ and $m, n > 0$), so there is no need to include any error checking in your function.\n",
    "\n",
    "**Note:** this is one of the rare occasions where you have my explicit permission to\n",
    "look up your answer. Unless otherwise stated (e.g., as in this problem), looking up\n",
    "solutions on Wikipedia or in any other non-class resource will be considered cheating!"
   ]
  },
  {
   "cell_type": "code",
   "execution_count": 67,
   "metadata": {
    "deletable": false,
    "nbgrader": {
     "cell_type": "code",
     "checksum": "36d0acb5f4e0e667257f1678f5b8cb39",
     "grade": false,
     "grade_id": "gcd",
     "locked": false,
     "schema_version": 3,
     "solution": true
    }
   },
   "outputs": [],
   "source": [
    "def gcd(a,b):\n",
    "    \"\"\"Compute the great common divisor (GCD) of two integers a,b. \n",
    "    \"\"\"\n",
    "    # YOUR CODE HERE\n",
    "    if b == 0:\n",
    "        return a\n",
    "    else:\n",
    "        return gcd(b, a % b)\n",
    "    "
   ]
  },
  {
   "cell_type": "code",
   "execution_count": 68,
   "metadata": {
    "deletable": false,
    "editable": false,
    "nbgrader": {
     "cell_type": "code",
     "checksum": "38c4126f1624a08c694e685bf60f9c2d",
     "grade": true,
     "grade_id": "gcd_tests",
     "locked": true,
     "points": 2,
     "schema_version": 3,
     "solution": false,
     "task": false
    }
   },
   "outputs": [],
   "source": [
    "\"\"\"Check that your gcd function returns the correct output for several inputs\"\"\"\n",
    "assert gcd(4,5) == 1\n",
    "assert gcd(20,10) == 10"
   ]
  },
  {
   "cell_type": "markdown",
   "metadata": {
    "deletable": false,
    "editable": false,
    "nbgrader": {
     "cell_type": "markdown",
     "checksum": "4377430516ddd02d4676ac0426cb9dcf",
     "grade": false,
     "grade_id": "negative_gcd",
     "locked": true,
     "schema_version": 3,
     "solution": false,
     "task": false
    }
   },
   "source": [
    "### Part 2 (1 point) \n",
    "What does your function do if one or both of the arguments are negative?"
   ]
  },
  {
   "cell_type": "code",
   "execution_count": 73,
   "metadata": {
    "deletable": false,
    "nbgrader": {
     "cell_type": "code",
     "checksum": "bdcdfdb206210cffeb658ad45336cd73",
     "grade": false,
     "grade_id": "cell-9b7a530cbce57b8d",
     "locked": false,
     "schema_version": 3,
     "solution": true,
     "task": false
    }
   },
   "outputs": [],
   "source": [
    "# Enter your answer as a python string in a variable called 'ans'. \n",
    "# You can use markdown formatting. \n",
    "# YOUR CODE HERE\n",
    "ans = \"If one of the input is negative, it will return a positive of the greats common divisor.\\\n",
    "       \\nIf both inputs are negative, it will return a negative of the greats common divisor.\""
   ]
  },
  {
   "cell_type": "code",
   "execution_count": 74,
   "metadata": {
    "deletable": false,
    "editable": false,
    "nbgrader": {
     "cell_type": "code",
     "checksum": "15716450f51ebfe11ee32e88ab1edff9",
     "grade": true,
     "grade_id": "cell-2bdb84d0d76cdb07",
     "locked": true,
     "points": 1,
     "schema_version": 3,
     "solution": false,
     "task": false
    }
   },
   "outputs": [
    {
     "data": {
      "text/markdown": [
       "If one of the input is negative, it will return a positive of the greats common divisor.       \n",
       "If both inputs are negative, it will return a negative of the greats common divisor."
      ],
      "text/plain": [
       "<IPython.core.display.Markdown object>"
      ]
     },
     "execution_count": 74,
     "metadata": {},
     "output_type": "execute_result"
    }
   ],
   "source": [
    "# Make sure you answer is rendered as markdown below. \n",
    "from IPython.display import Markdown as md\n",
    "assert type(ans) == str\n",
    "md(ans)"
   ]
  },
  {
   "cell_type": "markdown",
   "metadata": {
    "deletable": false,
    "editable": false,
    "nbgrader": {
     "cell_type": "markdown",
     "checksum": "9d2c82e1af19eb2d3f17df6681e97750",
     "grade": false,
     "grade_id": "prob3",
     "locked": true,
     "schema_version": 3,
     "solution": false,
     "task": false
    }
   },
   "source": [
    "## Problem 3: Approximating Euler's number $e$ (8 points) "
   ]
  },
  {
   "cell_type": "markdown",
   "metadata": {
    "deletable": false,
    "editable": false,
    "nbgrader": {
     "cell_type": "markdown",
     "checksum": "847c1eb82fc4c65a27a6787488c85254",
     "grade": false,
     "grade_id": "prob3-description",
     "locked": true,
     "schema_version": 3,
     "solution": false,
     "task": false
    }
   },
   "source": [
    "The base of the natural logarithm, $e$, is typically deﬁned as the inﬁnite sum below:\n",
    "$$\n",
    "\\begin{align}\n",
    "    e = \\sum_{k=0}^{\\infty} \\frac{1}{k!} = 1 + 1 + \\frac{1}{2} + \\frac{1}{6} + \\frac{1}{24} + \\dots && (1) \\\\\n",
    "\\end{align}\n",
    "$$\n",
    "\n",
    "The term $k!$ denotes the factorial of $k$, which is\n",
    "$$\n",
    "k! = k \\cdot (k-1) \\cdot (k-2) ... 3 \\cdot 2 \\cdot 1 \n",
    "$$\n",
    "\n",
    "By convention, $0! = 1$ For more on Euler’s number, see [here](https://en.wikipedia.org/wiki/E_(mathematical_constant)). In this problem, we will explore diﬀerent approaches to approximating this number."
   ]
  },
  {
   "cell_type": "markdown",
   "metadata": {
    "deletable": false,
    "editable": false,
    "nbgrader": {
     "cell_type": "markdown",
     "checksum": "6c304454f85268dd214bbd053100378a",
     "grade": false,
     "grade_id": "prob3-ex1",
     "locked": true,
     "schema_version": 3,
     "solution": false,
     "task": false
    }
   },
   "source": [
    "### Part 1 (2 points) "
   ]
  },
  {
   "cell_type": "markdown",
   "metadata": {
    "deletable": false,
    "editable": false,
    "nbgrader": {
     "cell_type": "markdown",
     "checksum": "59d7739955893a146111442296c1772f",
     "grade": false,
     "grade_id": "prob3-ex1-description",
     "locked": true,
     "schema_version": 3,
     "solution": false,
     "task": false
    }
   },
   "source": [
    "An early characterization of Euler’s number, due to Jacob Bernoulli, was as the limit of\n",
    "\n",
    "$$ \n",
    "(1 + \\frac{1}{x})^{x}\n",
    "$$\n",
    "\n",
    "as $x \\rightarrow \\infty$. Deﬁne a function called `euler_limit` that takes as an argument an integer $n$, and returns a `ﬂoat` that approximates $e$ by taking $x = n$ in Equation (2). You may assume that the input to your function will be a positive integer (of course, your function will still run just ﬁne if `n` is, say, a positive ﬂoat, but we will only use integer values in what follows)."
   ]
  },
  {
   "cell_type": "code",
   "execution_count": 79,
   "metadata": {
    "deletable": false,
    "nbgrader": {
     "cell_type": "code",
     "checksum": "b0c08c3c6b5a00020d44b02fa91d8ae4",
     "grade": false,
     "grade_id": "euler_limit",
     "locked": false,
     "schema_version": 3,
     "solution": true,
     "task": false
    }
   },
   "outputs": [],
   "source": [
    "def euler_limit(n): \n",
    "    \"\"\"Takes in a positive integer n and returns a float approximating the natural number e.\"\"\"\n",
    "    # YOUR CODE HERE\n",
    "    return (1 + 1/n)**n"
   ]
  },
  {
   "cell_type": "code",
   "execution_count": 81,
   "metadata": {
    "deletable": false,
    "editable": false,
    "nbgrader": {
     "cell_type": "code",
     "checksum": "281397a197c223cfb5082c4de0b3c929",
     "grade": true,
     "grade_id": "test_euler_limit1",
     "locked": true,
     "points": 1,
     "schema_version": 3,
     "solution": false,
     "task": false
    }
   },
   "outputs": [],
   "source": [
    "\"\"\"Check that your euler_limit function returns the correct output for several inputs\"\"\"\n",
    "assert euler_limit(1) == 2.0 \n",
    "assert euler_limit(2) == 2.25"
   ]
  },
  {
   "cell_type": "code",
   "execution_count": 82,
   "metadata": {
    "deletable": false,
    "editable": false,
    "nbgrader": {
     "cell_type": "code",
     "checksum": "81815e566d040ebb174752e210da1582",
     "grade": true,
     "grade_id": "test_euler_limit2",
     "locked": true,
     "points": 1,
     "schema_version": 3,
     "solution": false,
     "task": false
    }
   },
   "outputs": [],
   "source": [
    "assert round(euler_limit(3),3) == 2.370"
   ]
  },
  {
   "cell_type": "markdown",
   "metadata": {
    "deletable": false,
    "editable": false,
    "nbgrader": {
     "cell_type": "markdown",
     "checksum": "1f1f234b0927ea0b445d65bae59f1bc0",
     "grade": false,
     "grade_id": "prob3-ex2",
     "locked": true,
     "schema_version": 3,
     "solution": false,
     "task": false
    }
   },
   "source": [
    "### Part 2 (1 point) \n",
    "What happens when you call `euler_limit(n)` for really huge values of `n` (say, $10^{16}$ or $10^{18}$ )? Why does this happen? \n",
    "\n",
    "**Hint:** the answer has to do with ﬂoating point arithmetic. Think about how $1/n$ is represented on your computer when $n$ is big."
   ]
  },
  {
   "cell_type": "code",
   "execution_count": 88,
   "metadata": {
    "deletable": false,
    "nbgrader": {
     "cell_type": "code",
     "checksum": "d3085d43f2fcf7b6c98635013a387436",
     "grade": false,
     "grade_id": "prob3-part2-ans",
     "locked": false,
     "schema_version": 3,
     "solution": true,
     "task": false
    }
   },
   "outputs": [],
   "source": [
    "# Enter your answer as a python string in a variable called 'ans'. \n",
    "# You can use markdown formatting. \n",
    "# YOUR CODE HERE\n",
    "euler_limit(10000000000000000000000000000000000000000000000000000)\n",
    "ans = \"Because when n is very large and close to the limit of the computer,\\\n",
    "       \\n n will be interpreted as 0, this is becasue the floating point arithmetic in computers.\\\n",
    "       \\n Therefore, we put n = 0 to our formula, the result will be 1.\""
   ]
  },
  {
   "cell_type": "code",
   "execution_count": 89,
   "metadata": {
    "deletable": false,
    "editable": false,
    "nbgrader": {
     "cell_type": "code",
     "checksum": "88465601878cbd4665373b1a998740ea",
     "grade": true,
     "grade_id": "prob3-part2-tests",
     "locked": true,
     "points": 1,
     "schema_version": 3,
     "solution": false,
     "task": false
    }
   },
   "outputs": [
    {
     "data": {
      "text/markdown": [
       "Because when n is very large and close to the limit of the computer,       \n",
       " n will be interpreted as 0, this is becasue the floating point arithmetic in computers.       \n",
       " Therefore, we put n = 0 to our formula, the result will be 1."
      ],
      "text/plain": [
       "<IPython.core.display.Markdown object>"
      ]
     },
     "execution_count": 89,
     "metadata": {},
     "output_type": "execute_result"
    }
   ],
   "source": [
    "# Make sure you answer is rendered as markdown below. \n",
    "from IPython.display import Markdown as md\n",
    "assert type(ans) == str\n",
    "md(ans)"
   ]
  },
  {
   "cell_type": "markdown",
   "metadata": {
    "deletable": false,
    "editable": false,
    "nbgrader": {
     "cell_type": "markdown",
     "checksum": "57f49e349e856f4d07d87f3ff430c633",
     "grade": false,
     "grade_id": "prob3-ex3",
     "locked": true,
     "schema_version": 3,
     "solution": false,
     "task": false
    }
   },
   "source": [
    "### Part 3 (2 points) \n",
    "Deﬁne a function called `euler_sum` that takes a single non-negative integer argument `n`, and returns an approximation to $e$ based on the ﬁrst `n` terms of the sum in Equation (1). Your function should return a ﬂoat. \n",
    "You may assume that the input will be a non-negative integer, so you do not need to include error checking in your function. \n",
    "\n",
    "As an example, `euler_sum(4)` should return the sum of the ﬁrst four terms in Equation 1, so that `euler_sum(4)` returns $1 + 1 + 1/2 + 1/6 \\approx 2.667$. \n",
    "\n",
    "**Note:** the sum in Equation 1 starts counting with $k = 0$ (i.e., it is “0-indexed”), while our function starts counting with $n = 1$ (i.e., it is “1-indexed”). `euler_sum(1)` should use one term from Equation (1), so that `euler_sum(1)` returns `1`. Similarly, `euler_sum(0)` should return `0`, since by convention an empty sum is equal to zero. \n",
    "\n",
    "**Note:** you may use the math.factorial function to compute $k!$, but I recommend, for the sake of practice, implementing the factorial function yourself, as it is a nice example of a problem that is easily solved with recursion."
   ]
  },
  {
   "cell_type": "code",
   "execution_count": 98,
   "metadata": {
    "deletable": false,
    "nbgrader": {
     "cell_type": "code",
     "checksum": "11872c5acd04b5fc50c1766b62c06611",
     "grade": false,
     "grade_id": "euler-sum",
     "locked": false,
     "schema_version": 3,
     "solution": true,
     "task": false
    }
   },
   "outputs": [],
   "source": [
    "def euler_sum(n):\n",
    "    # YOUR CODE HERE\n",
    "    if n == 0:\n",
    "        return 0\n",
    "    else:\n",
    "        e = 1\n",
    "        for i in range(1, n):\n",
    "            factor = 1\n",
    "            for j in range(1, i+1):\n",
    "                factor *= j\n",
    "            e += 1/factor\n",
    "        return e"
   ]
  },
  {
   "cell_type": "code",
   "execution_count": 99,
   "metadata": {},
   "outputs": [
    {
     "data": {
      "text/plain": [
       "2.5"
      ]
     },
     "execution_count": 99,
     "metadata": {},
     "output_type": "execute_result"
    }
   ],
   "source": [
    "euler_sum(3)"
   ]
  },
  {
   "cell_type": "code",
   "execution_count": 100,
   "metadata": {
    "deletable": false,
    "editable": false,
    "nbgrader": {
     "cell_type": "code",
     "checksum": "d0faf4eba23802aa10b9fdd1118ec310",
     "grade": true,
     "grade_id": "test-euler-sum1",
     "locked": true,
     "points": 1,
     "schema_version": 3,
     "solution": false,
     "task": false
    }
   },
   "outputs": [],
   "source": [
    "assert euler_sum(0) == 0 \n",
    "assert round(euler_sum(4),3) == 2.667"
   ]
  },
  {
   "cell_type": "code",
   "execution_count": 101,
   "metadata": {
    "deletable": false,
    "editable": false,
    "nbgrader": {
     "cell_type": "code",
     "checksum": "a74ecbe30df4f4ca7bc60d6d369c35be",
     "grade": true,
     "grade_id": "test-euler-sum2",
     "locked": true,
     "points": 1,
     "schema_version": 3,
     "solution": false,
     "task": false
    }
   },
   "outputs": [],
   "source": [
    "assert euler_sum(3) == 2.5"
   ]
  },
  {
   "cell_type": "markdown",
   "metadata": {
    "deletable": false,
    "editable": false,
    "nbgrader": {
     "cell_type": "markdown",
     "checksum": "3a1962e73cdf8f59dd22c342848ea5b0",
     "grade": false,
     "grade_id": "prob3-ex4",
     "locked": true,
     "schema_version": 3,
     "solution": false,
     "task": false
    }
   },
   "source": [
    "### Part 4 (1 point) \n",
    "Deﬁne a function called `euler_approx` that takes a single argument, a positive ﬂoat `epsilon`, and uses the sum in Equation (1) to obtain an approximation of $e$ that is within `epsilon` of the true value of $e$. \n",
    "\n",
    "**Hint:** use a while-loop. \n",
    "\n",
    "**Note:** you can use the Python math module to get the true value of $e$ (up to ﬂoating point accuracy): `math.exp(1)`."
   ]
  },
  {
   "cell_type": "code",
   "execution_count": 102,
   "metadata": {
    "deletable": false,
    "nbgrader": {
     "cell_type": "code",
     "checksum": "1026e9a8cefa6e7695187828f20a22d2",
     "grade": false,
     "grade_id": "euler-approx",
     "locked": false,
     "schema_version": 3,
     "solution": true,
     "task": false
    }
   },
   "outputs": [],
   "source": [
    "import math\n",
    "\n",
    "def euler_approx(epsilon):\n",
    "    # YOUR CODE HERE\n",
    "    n = 0\n",
    "    while abs(euler_sum(n) - math.e) > epsilon:\n",
    "        n += 1\n",
    "    return n"
   ]
  },
  {
   "cell_type": "code",
   "execution_count": 103,
   "metadata": {
    "deletable": false,
    "editable": false,
    "nbgrader": {
     "cell_type": "code",
     "checksum": "cf33fdd9eafb79192569f57928896b26",
     "grade": true,
     "grade_id": "euler-approx-tests",
     "locked": true,
     "points": 1,
     "schema_version": 3,
     "solution": false,
     "task": false
    }
   },
   "outputs": [],
   "source": [
    "assert abs(euler_approx(1e0) - math.exp(1)) < 1e0"
   ]
  },
  {
   "cell_type": "markdown",
   "metadata": {
    "deletable": false,
    "editable": false,
    "nbgrader": {
     "cell_type": "markdown",
     "checksum": "b3aecd4683431991af7eeeac37afabf4",
     "grade": false,
     "grade_id": "prob3-ex5",
     "locked": true,
     "schema_version": 3,
     "solution": false,
     "task": false
    }
   },
   "source": [
    "### Part 5 (1 point) \n",
    "For a value of interest $x$ and an approximation $\\hat x$, we say the difference $\\hat x - x$ is the **error** of $f(k)$.\n",
    "\n",
    "Deﬁne functions called `print_euler_sum_error` and `print_euler_lim_error` that take a single positive integer `n` as input. For $k=1,\\dots,n$, the function will print the error of the approximation of $e$ given by `euler_sum` or `euler_limit`, respectively, evaluated at $k$. Each error should be printed on its own line (for $n$ lines in total)."
   ]
  },
  {
   "cell_type": "code",
   "execution_count": 104,
   "metadata": {
    "deletable": false,
    "nbgrader": {
     "cell_type": "code",
     "checksum": "f47d44ab0ebe1c1cf7da6ca32eac74f6",
     "grade": false,
     "grade_id": "prob3-ex5-func",
     "locked": false,
     "schema_version": 3,
     "solution": true,
     "task": false
    }
   },
   "outputs": [],
   "source": [
    "def print_euler_sum_error(n):\n",
    "    # YOUR CODE HERE\n",
    "    return euler_sum(n) - math.exp(1)\n",
    "    \n",
    "def print_euler_lim_error(n):\n",
    "    # YOUR CODE HERE\n",
    "    return euler_limit(n) - math.exp(1)"
   ]
  },
  {
   "cell_type": "code",
   "execution_count": 107,
   "metadata": {
    "deletable": false,
    "editable": false,
    "nbgrader": {
     "cell_type": "code",
     "checksum": "06fead4290f354e1cf2a7c4194a4bf7c",
     "grade": true,
     "grade_id": "cell-fccdb9f21de162ca",
     "locked": true,
     "points": 1,
     "schema_version": 3,
     "solution": false,
     "task": false
    }
   },
   "outputs": [
    {
     "name": "stdout",
     "output_type": "stream",
     "text": [
      "\n"
     ]
    },
    {
     "data": {
      "text/plain": [
       "-0.12453936835904278"
      ]
     },
     "execution_count": 107,
     "metadata": {},
     "output_type": "execute_result"
    }
   ],
   "source": [
    "# Run this cell to check your functions. \n",
    "print_euler_sum_error(10)\n",
    "print()\n",
    "print_euler_lim_error(10)"
   ]
  },
  {
   "cell_type": "code",
   "execution_count": 112,
   "metadata": {},
   "outputs": [
    {
     "data": {
      "image/png": "[encoded data removed]",
      "text/plain": [
       "<Figure size 500x300 with 1 Axes>"
      ]
     },
     "metadata": {},
     "output_type": "display_data"
    }
   ],
   "source": [
    "import matplotlib.pyplot as plt\n",
    "# Range of n values\n",
    "n_values = range(1, 21)\n",
    "sum_errors = [print_euler_sum_error(n) for n in n_values]\n",
    "lim_errors = [print_euler_lim_error(n) for n in n_values]\n",
    "\n",
    "# Plotting the errors\n",
    "plt.figure(figsize=(5, 3))\n",
    "plt.plot(n_values, sum_errors, label='Sum Error', marker='o')\n",
    "plt.plot(n_values, lim_errors, label='Limit Error', marker='x')\n",
    "plt.xlabel('n')\n",
    "plt.ylabel('Error in approximation of e')\n",
    "plt.title('Error Comparison of Euler Number Approximations')\n",
    "plt.legend()\n",
    "plt.grid(True)\n",
    "plt.show()\n"
   ]
  },
  {
   "cell_type": "markdown",
   "metadata": {
    "deletable": false,
    "editable": false,
    "nbgrader": {
     "cell_type": "markdown",
     "checksum": "9b02054de2a99701ebaa9e037f30b56a",
     "grade": false,
     "grade_id": "prob3-ex6",
     "locked": true,
     "schema_version": 3,
     "solution": false,
     "task": false
    }
   },
   "source": [
    "### Part 6 (1 point) \n",
    "Which approximation is better? "
   ]
  },
  {
   "cell_type": "code",
   "execution_count": 110,
   "metadata": {
    "deletable": false,
    "nbgrader": {
     "cell_type": "code",
     "checksum": "fcbb1ab4afcb1902b25ebab1cd12d67b",
     "grade": false,
     "grade_id": "prob3-part6-ans",
     "locked": false,
     "schema_version": 3,
     "solution": true,
     "task": false
    }
   },
   "outputs": [],
   "source": [
    "# Enter your answer as a python string in a variable called 'ans'. \n",
    "# You can use markdown formatting. \n",
    "# YOUR CODE HERE\n",
    "ans = \"The error of the sum approximation converges faster than the error of the limit approximation.\\\n",
    "       \\nMoreover, when n increases, the error of the sum approximation is closer to 0 than the error of the limit approximation.\""
   ]
  },
  {
   "cell_type": "code",
   "execution_count": 111,
   "metadata": {
    "deletable": false,
    "editable": false,
    "nbgrader": {
     "cell_type": "code",
     "checksum": "4664fa30590e9abeb492ca46cf14bc1e",
     "grade": true,
     "grade_id": "prob3-part6-test",
     "locked": true,
     "points": 1,
     "schema_version": 3,
     "solution": false,
     "task": false
    }
   },
   "outputs": [
    {
     "data": {
      "text/markdown": [
       "The error of the sum approximation converges faster than the error of the limit approximation.       \n",
       "Moreover, when n increases, the error of the sum approximation is closer to 0 than the error of the limit approximation."
      ],
      "text/plain": [
       "<IPython.core.display.Markdown object>"
      ]
     },
     "execution_count": 111,
     "metadata": {},
     "output_type": "execute_result"
    }
   ],
   "source": [
    "# Make sure you answer is rendered as markdown below. \n",
    "from IPython.display import Markdown as md\n",
    "assert type(ans) == str\n",
    "md(ans)"
   ]
  },
  {
   "cell_type": "markdown",
   "metadata": {
    "deletable": false,
    "editable": false,
    "nbgrader": {
     "cell_type": "markdown",
     "checksum": "88773014339b73564475b5140ab23031",
     "grade": false,
     "grade_id": "prob4-ex1",
     "locked": true,
     "schema_version": 3,
     "solution": false,
     "task": false
    }
   },
   "source": [
    "## Problem 4: Testing properties of integers (5 points)\n",
    "In this problem, you’ll get a bit more practice working with conditionals, and a ﬁrst exposure to the kind of thinking that is required in a typical “coding interview” question. A positive integer $n$ is a power of 2 if $n = 2^p$ for some integer $p \\geq 0$."
   ]
  },
  {
   "cell_type": "markdown",
   "metadata": {
    "deletable": false,
    "editable": false,
    "nbgrader": {
     "cell_type": "markdown",
     "checksum": "a37de32737155864cc7976aa6d61b9b0",
     "grade": false,
     "grade_id": "cell-2f9a1ec572d022b5",
     "locked": true,
     "schema_version": 3,
     "solution": false,
     "task": false
    }
   },
   "source": [
    "### Part 1 (2 points) \n",
    "Write a function `is_power_of_2` that takes a positive integer as its only argument and returns a Boolean indicating whether or not the input is a power of 2. \n",
    "\n",
    "You may assume that the input is a positive integer. You may not use the built-in `math.sqrt` function in your solution. You should need only the division and modulus (%) operations. \n",
    "\n",
    "**Hint:** the simplest solution to this problem makes use of recursion, though recursion is not necessary."
   ]
  },
  {
   "cell_type": "code",
   "execution_count": 115,
   "metadata": {
    "deletable": false,
    "nbgrader": {
     "cell_type": "code",
     "checksum": "7056faf6854e1f6640b505a8523d7551",
     "grade": false,
     "grade_id": "is_power_of_2",
     "locked": false,
     "schema_version": 3,
     "solution": true,
     "task": false
    }
   },
   "outputs": [],
   "source": [
    "def is_power_of_2(n):\n",
    "    # YOUR CODE HERE\n",
    "    if n == 1:\n",
    "        return True\n",
    "    elif n % 2 == 0:\n",
    "        return is_power_of_2(n/2)\n",
    "    else:\n",
    "        return False"
   ]
  },
  {
   "cell_type": "code",
   "execution_count": 116,
   "metadata": {
    "deletable": false,
    "editable": false,
    "nbgrader": {
     "cell_type": "code",
     "checksum": "030b7891f242e44d41cfce142383e8d0",
     "grade": true,
     "grade_id": "is_power_of_2_test1",
     "locked": true,
     "points": 1,
     "schema_version": 3,
     "solution": false,
     "task": false
    }
   },
   "outputs": [],
   "source": [
    "assert is_power_of_2(1)\n",
    "assert is_power_of_2(2)\n",
    "assert not is_power_of_2(15)"
   ]
  },
  {
   "cell_type": "code",
   "execution_count": 117,
   "metadata": {
    "deletable": false,
    "editable": false,
    "nbgrader": {
     "cell_type": "code",
     "checksum": "f65b93b325197f58d28cd2d8cbb7909b",
     "grade": true,
     "grade_id": "is_power_of_2_test2",
     "locked": true,
     "points": 1,
     "schema_version": 3,
     "solution": false,
     "task": false
    }
   },
   "outputs": [],
   "source": [
    "assert is_power_of_2(4)"
   ]
  },
  {
   "cell_type": "markdown",
   "metadata": {
    "deletable": false,
    "editable": false,
    "nbgrader": {
     "cell_type": "markdown",
     "checksum": "8839836eec44fd5f99cd12bfd9089282",
     "grade": false,
     "grade_id": "prob4-ex2",
     "locked": true,
     "schema_version": 3,
     "solution": false,
     "task": false
    }
   },
   "source": [
    "### Part 2 (3 points)\n",
    "Generalize your previous solution to a function `is_power` that takes two positive integers as its arguments, `b` and `n`, in that order, and returns a Boolean. `is_power(b,n)` should return `True` if `n` is a power of `b` and `False` otherwise."
   ]
  },
  {
   "cell_type": "code",
   "execution_count": 124,
   "metadata": {
    "deletable": false,
    "nbgrader": {
     "cell_type": "code",
     "checksum": "e6ff6877d24ed8e84bbe89a5aa4736c9",
     "grade": false,
     "grade_id": "is_power",
     "locked": false,
     "schema_version": 3,
     "solution": true,
     "task": false
    }
   },
   "outputs": [],
   "source": [
    "def is_power(b,n):\n",
    "    # YOUR CODE HERE\n",
    "    if n == 1:\n",
    "        return True\n",
    "    elif b == 1:\n",
    "        return False\n",
    "    elif n % b == 0:\n",
    "        return is_power(b, n/b)\n",
    "    else:\n",
    "        return False"
   ]
  },
  {
   "cell_type": "code",
   "execution_count": 125,
   "metadata": {
    "deletable": false,
    "editable": false,
    "nbgrader": {
     "cell_type": "code",
     "checksum": "b6b1137d07032532360d1b053b981173",
     "grade": true,
     "grade_id": "is_power_test1",
     "locked": true,
     "points": 1.5,
     "schema_version": 3,
     "solution": false,
     "task": false
    }
   },
   "outputs": [],
   "source": [
    "assert is_power(5, 125)\n",
    "assert not is_power(5, 150)"
   ]
  },
  {
   "cell_type": "code",
   "execution_count": 126,
   "metadata": {
    "deletable": false,
    "editable": false,
    "nbgrader": {
     "cell_type": "code",
     "checksum": "f00c737640c82f32c0c8debb07347bd7",
     "grade": true,
     "grade_id": "is_power_test2",
     "locked": true,
     "points": 1.5,
     "schema_version": 3,
     "solution": false,
     "task": false
    },
    "slideshow": {
     "slide_type": ""
    },
    "tags": []
   },
   "outputs": [],
   "source": [
    "assert not is_power(1, 2)\n",
    "assert is_power(3, 1)"
   ]
  },
  {
   "cell_type": "markdown",
   "metadata": {
    "editable": false,
    "nbgrader": {
     "cell_type": "markdown",
     "checksum": "88773014339b73564475b5140ab23031",
     "grade": false,
     "grade_id": "prob4-ex1",
     "locked": true,
     "schema_version": 3,
     "solution": false,
     "task": false
    },
    "slideshow": {
     "slide_type": ""
    },
    "tags": []
   },
   "source": [
    "## Problem 5: Create and share your stats 507 gitHub repository (5 points)\n",
    "\n",
    "Create a new GitHub repository for the Stats 507 course and complete the following tasks:\n",
    "### Set up the repository\n",
    "Name the repository appropriately (e.g., \"stats507-coursework\");\n",
    "Ensure the repository is public (unless otherwise specified)\n",
    "\n",
    "### Add a README file\n",
    "Create a file named \"README.md\" in the root directory;\n",
    "Include a brief description of the course and the purpose of the repository\n",
    "\n",
    "### Provide the repository link\n",
    "Note: You should only post HW after the due date (or make it private)"
   ]
  },
  {
   "cell_type": "code",
   "execution_count": 1,
   "metadata": {
    "editable": true,
    "nbgrader": {
     "cell_type": "code",
     "checksum": "2f8d7f834f3c1134580e1f725478fe86",
     "grade": false,
     "grade_id": "cell-9a484821ec48c9fc",
     "locked": false,
     "schema_version": 3,
     "solution": true,
     "task": false
    },
    "slideshow": {
     "slide_type": ""
    },
    "tags": []
   },
   "outputs": [
    {
     "data": {
      "text/plain": [
       "'https://github.com/alexalex6767/stats507-coursework'"
      ]
     },
     "execution_count": 1,
     "metadata": {},
     "output_type": "execute_result"
    }
   ],
   "source": [
    "# YOUR REPO LINK HERE\n",
    "\"https://github.com/alexalex6767/stats507-coursework\""
   ]
  }
 ],
 "metadata": {
  "kernelspec": {
   "display_name": "Python 3 (ipykernel)",
   "language": "python",
   "name": "python3"
  },
  "language_info": {
   "codemirror_mode": {
    "name": "ipython",
    "version": 3
   },
   "file_extension": ".py",
   "mimetype": "text/x-python",
   "name": "python",
   "nbconvert_exporter": "python",
   "pygments_lexer": "ipython3",
   "version": "3.11.5"
  },
  "latex_envs": {
   "LaTeX_envs_menu_present": true,
   "autoclose": false,
   "autocomplete": true,
   "bibliofile": "biblio.bib",
   "cite_by": "apalike",
   "current_citInitial": 1,
   "eqLabelWithNumbers": true,
   "eqNumInitial": 1,
   "hotkeys": {
    "equation": "meta-shift-y"
   },
   "labels_anchors": false,
   "latex_user_defs": false,
   "report_style_numbering": false,
   "user_envs_cfg": false
  },
  "toc": {
   "base_numbering": 1,
   "nav_menu": {},
   "number_sections": false,
   "sideBar": true,
   "skip_h1_title": true,
   "title_cell": "Table of Contents",
   "title_sidebar": "Contents",
   "toc_cell": false,
   "toc_position": {
    "height": "calc(100% - 180px)",
    "left": "10px",
    "top": "150px",
    "width": "349.091px"
   },
   "toc_section_display": true,
   "toc_window_display": true
  }
 },
 "nbformat": 4,
 "nbformat_minor": 4
}
